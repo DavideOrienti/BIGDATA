{
 "cells": [
  {
   "cell_type": "code",
   "execution_count": 1,
   "id": "5e342657",
   "metadata": {},
   "outputs": [
    {
     "name": "stderr",
     "output_type": "stream",
     "text": [
      "[nltk_data] Downloading package stopwords to\n",
      "[nltk_data]     C:\\Users\\david\\AppData\\Roaming\\nltk_data...\n",
      "[nltk_data]   Package stopwords is already up-to-date!\n"
     ]
    },
    {
     "name": "stdout",
     "output_type": "stream",
     "text": [
      "[✓] Pulizia completata: 2780756/3000040 righe valide salvate in './data/dataset_full_cleaned.csv'.\n"
     ]
    }
   ],
   "source": [
    "import os\n",
    "import re\n",
    "import csv\n",
    "import nltk\n",
    "from nltk.corpus import stopwords\n",
    "\n",
    "# Scarica le stopwords (una sola volta)\n",
    "nltk.download('stopwords')\n",
    "STOPWORDS = set(stopwords.words('english'))\n",
    "\n",
    "# File di input/output\n",
    "input_csv = './data/used_cars_data.csv'\n",
    "output_csv = './data/dataset_full_cleaned.csv'\n",
    "os.makedirs('./data', exist_ok=True)\n",
    "\n",
    "# Colonne da mantenere (ordine finale)\n",
    "final_columns = [\n",
    "    'make_name', 'model_name', 'price', 'year', 'city',\n",
    "    'daysonmarket', 'horsepower', 'engine_displacement', 'description'\n",
    "]\n",
    "\n",
    "def clean_description(text):\n",
    "    \"\"\"Pulisce la descrizione rimuovendo punteggiatura e stopwords.\"\"\"\n",
    "    text = re.sub(r\"[^\\w\\s]\", \"\", text)\n",
    "    words = text.lower().split()\n",
    "    return \" \".join([w for w in words if w not in STOPWORDS])\n",
    "\n",
    "def is_valid_number(value):\n",
    "    \"\"\"Controlla se un valore è un numero valido > 0.\"\"\"\n",
    "    try:\n",
    "        return float(value) > 0\n",
    "    except:\n",
    "        return False\n",
    "\n",
    "def clean_row(row):\n",
    "    \"\"\"Pulisce una riga e restituisce solo le colonne richieste, se valida.\"\"\"\n",
    "    try:\n",
    "        # Controlli sui campi numerici\n",
    "        numeric_fields = ['price', 'year', 'daysonmarket', 'horsepower', 'engine_displacement']\n",
    "        for field in numeric_fields:\n",
    "            if not is_valid_number(row.get(field, '')):\n",
    "                return None\n",
    "\n",
    "        # Pulisce i testi\n",
    "        for field in ['make_name', 'model_name', 'city']:\n",
    "            if row.get(field) is None or row[field].strip() == '':\n",
    "                return None\n",
    "            row[field] = row[field].replace(',', ' ').replace('\\n', ' ').strip()\n",
    "\n",
    "        # Pulizia descrizione\n",
    "        desc = row.get('description', '')\n",
    "        row['description'] = clean_description(desc) if desc else ''\n",
    "\n",
    "        # Ritorna solo le colonne finali in ordine\n",
    "        return [row.get(col, '') for col in final_columns]\n",
    "\n",
    "    except Exception as e:\n",
    "        return None\n",
    "\n",
    "def main():\n",
    "    total_rows = 0\n",
    "    cleaned_rows = 0\n",
    "\n",
    "    with open(input_csv, 'r', encoding='utf-8') as infile, open(output_csv, 'w', encoding='utf-8', newline='') as outfile:\n",
    "        reader = csv.DictReader(infile)\n",
    "        writer = csv.writer(outfile)\n",
    "        writer.writerow(final_columns)  # intestazione\n",
    "\n",
    "        for row in reader:\n",
    "            total_rows += 1\n",
    "            cleaned = clean_row(row)\n",
    "            if cleaned:\n",
    "                writer.writerow(cleaned)\n",
    "                cleaned_rows += 1\n",
    "\n",
    "    print(f\"[✓] Pulizia completata: {cleaned_rows}/{total_rows} righe valide salvate in '{output_csv}'.\")\n",
    "\n",
    "if __name__ == \"__main__\":\n",
    "    main()\n"
   ]
  }
 ],
 "metadata": {
  "kernelspec": {
   "display_name": "Python 3",
   "language": "python",
   "name": "python3"
  },
  "language_info": {
   "codemirror_mode": {
    "name": "ipython",
    "version": 3
   },
   "file_extension": ".py",
   "mimetype": "text/x-python",
   "name": "python",
   "nbconvert_exporter": "python",
   "pygments_lexer": "ipython3",
   "version": "3.11.9"
  }
 },
 "nbformat": 4,
 "nbformat_minor": 5
}
